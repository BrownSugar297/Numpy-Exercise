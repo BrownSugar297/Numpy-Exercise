{
 "cells": [
  {
   "cell_type": "code",
   "execution_count": 4,
   "id": "640e25d1-fc2c-43e5-9f81-8c6551602160",
   "metadata": {},
   "outputs": [
    {
     "name": "stdout",
     "output_type": "stream",
     "text": [
      "[10 20 30 40 50 90]\n"
     ]
    }
   ],
   "source": [
    "# Insert\n",
    "\n",
    "import numpy as np\n",
    "\n",
    "a = np.array([10,20,30,40,50])\n",
    "b = np.append(a,[90])\n",
    "print(b)"
   ]
  },
  {
   "cell_type": "code",
   "execution_count": 11,
   "id": "435a3bd3-d6c9-4ddc-a8fe-8fd6f48fbb14",
   "metadata": {},
   "outputs": [
    {
     "name": "stdout",
     "output_type": "stream",
     "text": [
      "[[10 20 30]\n",
      " [40 50 60]]\n",
      "\n",
      "\n",
      "[ 10  20  30  40  50  60  70 100]\n"
     ]
    }
   ],
   "source": [
    "a = np.array([[10,20,30],[40,50,60]])\n",
    "b= np.append(a,[70,100])\n",
    "print(a)\n",
    "print('\\n')\n",
    "print(b)"
   ]
  },
  {
   "cell_type": "code",
   "execution_count": 15,
   "id": "e3cd5ef4-2614-4891-a7f0-de5b45b5f0b5",
   "metadata": {},
   "outputs": [
    {
     "name": "stdout",
     "output_type": "stream",
     "text": [
      "[10 20 30 40 50]\n"
     ]
    }
   ],
   "source": [
    "a = np.array([10,20,40,50])  # array,index,value\n",
    "\n",
    "print(np.insert(a,2,30))"
   ]
  },
  {
   "cell_type": "code",
   "execution_count": 42,
   "id": "3c23e03f-eca7-460d-9d01-53c15eed54f5",
   "metadata": {},
   "outputs": [
    {
     "name": "stdout",
     "output_type": "stream",
     "text": [
      "[[10 20]\n",
      " [30 40]\n",
      " [30 40]\n",
      " [50 60]]\n"
     ]
    }
   ],
   "source": [
    "a = np.array([[10,20],[50,60]])\n",
    "print(np.insert(a,[1,1],[30,40], axis =0))"
   ]
  },
  {
   "cell_type": "code",
   "execution_count": 51,
   "id": "9bb49f97-d5ff-4c58-859d-bb30b2cbdcd1",
   "metadata": {},
   "outputs": [
    {
     "name": "stdout",
     "output_type": "stream",
     "text": [
      "[[10 20]\n",
      " [50 60]]\n",
      "\n",
      "\n",
      "[[10 20]]\n"
     ]
    }
   ],
   "source": [
    "# Delete\n",
    "\n",
    "print(a)\n",
    "print('\\n')\n",
    "print(np.delete(a,1, axis = 0))\n"
   ]
  }
 ],
 "metadata": {
  "kernelspec": {
   "display_name": "Python 3 (ipykernel)",
   "language": "python",
   "name": "python3"
  },
  "language_info": {
   "codemirror_mode": {
    "name": "ipython",
    "version": 3
   },
   "file_extension": ".py",
   "mimetype": "text/x-python",
   "name": "python",
   "nbconvert_exporter": "python",
   "pygments_lexer": "ipython3",
   "version": "3.12.0"
  }
 },
 "nbformat": 4,
 "nbformat_minor": 5
}
