{
 "cells": [
  {
   "cell_type": "code",
   "execution_count": 8,
   "id": "8c4f3cd9-efc6-4799-a617-ec6e9be56edc",
   "metadata": {},
   "outputs": [
    {
     "name": "stdout",
     "output_type": "stream",
     "text": [
      "202.25\n",
      "194.0\n",
      "200\n",
      "55.68157235567257\n",
      "3100.4375\n"
     ]
    }
   ],
   "source": [
    "import numpy as np\n",
    "import statistics as stats\n",
    "baked_food = [200,300,150,130,200,280,170,188]\n",
    "\n",
    "a = np.array(baked_food)\n",
    "print(np.mean(baked_food))  # sum of all values/number of values\n",
    "print(np.median(baked_food))\n",
    "print(stats.mode(baked_food))\n",
    "print(np.std(baked_food))\n",
    "print(np.var(baked_food))\n"
   ]
  },
  {
   "cell_type": "code",
   "execution_count": 12,
   "id": "51a3111d-ab38-463d-b989-f1c568cfb672",
   "metadata": {},
   "outputs": [
    {
     "name": "stdout",
     "output_type": "stream",
     "text": [
      "[[1. 1.]\n",
      " [1. 1.]]\n"
     ]
    }
   ],
   "source": [
    "price = [100,200,300,400,500]\n",
    "sales = [10,20,30,40,50]\n",
    "print(np.corrcoef(price,sales))"
   ]
  }
 ],
 "metadata": {
  "kernelspec": {
   "display_name": "Python 3 (ipykernel)",
   "language": "python",
   "name": "python3"
  },
  "language_info": {
   "codemirror_mode": {
    "name": "ipython",
    "version": 3
   },
   "file_extension": ".py",
   "mimetype": "text/x-python",
   "name": "python",
   "nbconvert_exporter": "python",
   "pygments_lexer": "ipython3",
   "version": "3.12.0"
  }
 },
 "nbformat": 4,
 "nbformat_minor": 5
}
