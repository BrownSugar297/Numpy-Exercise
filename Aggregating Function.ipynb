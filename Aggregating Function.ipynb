{
 "cells": [
  {
   "cell_type": "code",
   "execution_count": 8,
   "id": "8036376d-0dcc-4929-b47e-953d1f6c4c27",
   "metadata": {},
   "outputs": [
    {
     "name": "stdout",
     "output_type": "stream",
     "text": [
      "140\n",
      "20\n",
      "50\n",
      "4\n",
      "35.0\n",
      "[ 20  50  90 140]\n",
      "[     20     600   24000 1200000]\n"
     ]
    }
   ],
   "source": [
    "import numpy as np\n",
    "\n",
    "a = np.array([20,30,40,50])\n",
    "print(np.sum(a))\n",
    "print(np.min(a))\n",
    "print(np.max(a))\n",
    "print(np.size(a))\n",
    "print(np.mean(a))\n",
    "print(np.cumsum(a))\n",
    "print(np.cumprod(a))\n"
   ]
  },
  {
   "cell_type": "code",
   "execution_count": 30,
   "id": "34fd9ecd-6c1e-4b3a-be1f-d42525bf9cd8",
   "metadata": {},
   "outputs": [
    {
     "name": "stdout",
     "output_type": "stream",
     "text": [
      "[100 150 199 200 250 130] \n",
      " [10 50 30 40 30 10]\n",
      "\n",
      "1029\n",
      "\n",
      "\n",
      "[[ 100  150  199  200  250  130]\n",
      " [1000 7500 5970 8000 7500 1300]]\n",
      "\n",
      "31270\n"
     ]
    }
   ],
   "source": [
    "a = [100,150,199,200,250,130]\n",
    "b = [10,50,30,40,30,10]\n",
    "\n",
    "price = np.array(a)\n",
    "quantity = np.array(b)\n",
    "print(price,\"\\n\",quantity)\n",
    "print()\n",
    "print(np.sum(price))\n",
    "print('\\n')\n",
    "c = np.cumprod([price,quantity], axis = 0)\n",
    "print(c)\n",
    "print()\n",
    "print(c[1].sum())\n"
   ]
  }
 ],
 "metadata": {
  "kernelspec": {
   "display_name": "Python 3 (ipykernel)",
   "language": "python",
   "name": "python3"
  },
  "language_info": {
   "codemirror_mode": {
    "name": "ipython",
    "version": 3
   },
   "file_extension": ".py",
   "mimetype": "text/x-python",
   "name": "python",
   "nbconvert_exporter": "python",
   "pygments_lexer": "ipython3",
   "version": "3.12.0"
  }
 },
 "nbformat": 4,
 "nbformat_minor": 5
}
