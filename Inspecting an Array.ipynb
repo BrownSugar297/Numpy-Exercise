{
 "cells": [
  {
   "cell_type": "code",
   "execution_count": 22,
   "id": "08deea63-6429-4c29-ba03-edfc208011bc",
   "metadata": {},
   "outputs": [
    {
     "name": "stdout",
     "output_type": "stream",
     "text": [
      "[[10.5 20.  30. ]\n",
      " [40.  50.  60.5]\n",
      " [70.  80.5 90. ]]\n",
      "(3, 3)\n",
      "3\n",
      "9\n",
      "<class 'numpy.ndarray'>\n",
      "float64\n",
      "[[10.5 20.  30. ]\n",
      " [40.  50.  60.5]\n",
      " [70.  80.5 90. ]]\n",
      "[['10.5' '20.0' '30.0']\n",
      " ['40.0' '50.0' '60.5']\n",
      " ['70.0' '80.5' '90.0']]\n",
      "[[10 20 30]\n",
      " [40 50 60]\n",
      " [70 80 90]]\n"
     ]
    }
   ],
   "source": [
    "import numpy as np\n",
    "\n",
    "a = [[10.5,20,30],[40,50,60.5],[70,80.5,90]]\n",
    "arr = np.array(a)\n",
    "print(arr)\n",
    "print(arr.shape)\n",
    "print(len(arr))   #number of nested value\n",
    "print(np.size(arr))\n",
    "print(type(arr))\n",
    "print(arr.dtype)\n",
    "print(arr.astype(float))\n",
    "print(arr.astype(str))\n",
    "print(arr.astype(int))"
   ]
  },
  {
   "cell_type": "code",
   "execution_count": null,
   "id": "654ad641-128f-44f9-bbbd-04fb3c9c170c",
   "metadata": {},
   "outputs": [],
   "source": []
  }
 ],
 "metadata": {
  "kernelspec": {
   "display_name": "Python 3 (ipykernel)",
   "language": "python",
   "name": "python3"
  },
  "language_info": {
   "codemirror_mode": {
    "name": "ipython",
    "version": 3
   },
   "file_extension": ".py",
   "mimetype": "text/x-python",
   "name": "python",
   "nbconvert_exporter": "python",
   "pygments_lexer": "ipython3",
   "version": "3.12.0"
  }
 },
 "nbformat": 4,
 "nbformat_minor": 5
}
