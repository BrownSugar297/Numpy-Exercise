{
 "cells": [
  {
   "cell_type": "code",
   "execution_count": 1,
   "id": "0baee899-4bdc-4312-8d9b-ef1600a610e9",
   "metadata": {},
   "outputs": [
    {
     "name": "stdout",
     "output_type": "stream",
     "text": [
      "[ 4  7  8  9 12]\n",
      "\n",
      "\n",
      "[[ 2  3  6  9]\n",
      " [ 8 11 14 18]]\n",
      "\n",
      "\n",
      "(array([2], dtype=int64),)\n",
      "\n",
      "\n",
      "(array([2, 4], dtype=int64),)\n",
      "2\n",
      "\n",
      "\n",
      "[10 15 25]\n",
      "\n",
      "\n",
      "[ 60  70  80  90 100]\n",
      "\n",
      "\n",
      "[3 5]\n"
     ]
    }
   ],
   "source": [
    "import numpy as np\n",
    "# sort\n",
    "arr1 = np.array([7,8,4,12,9])\n",
    "print(np.sort(arr1))\n",
    "print('\\n')\n",
    "\n",
    "arr2 = np.array([[6,3,9,2],[8,14,11,18]])\n",
    "print(np.sort(arr2))\n",
    "print('\\n')\n",
    "\n",
    "# serach\n",
    "arr3 = np.array([3,4,1,7,8])\n",
    "s = np.where(arr3 == 1)\n",
    "print(s)\n",
    "print('\\n')\n",
    "arr4 = np.array([23,5,20,17,6,13])\n",
    "s = np.where(arr4 % 2 == 0)\n",
    "print(s)\n",
    "ss = np.searchsorted(arr4,17)  # first sort then search\n",
    "print(ss)\n",
    "print('\\n')\n",
    "\n",
    "# filter\n",
    "\n",
    "arr5 = np.array([10,15,20,25])\n",
    "f = [True,True,False,True]\n",
    "new = arr5[f]\n",
    "print(new)\n",
    "print('\\n')\n",
    "arr6 = np.array([20,30,40,50,60,70,80,90,100])\n",
    "fa = arr6 > 50\n",
    "new = arr6[fa]\n",
    "print(new)\n",
    "print('\\n')\n",
    "arr6 = np.array([2,3,4,5,6])\n",
    "fa = arr6 % 2 == 1\n",
    "new = arr6[fa]\n",
    "print(new)"
   ]
  },
  {
   "cell_type": "code",
   "execution_count": null,
   "id": "73e654ea-7df8-4df0-b90f-219ca51ce14c",
   "metadata": {},
   "outputs": [],
   "source": []
  }
 ],
 "metadata": {
  "kernelspec": {
   "display_name": "Python 3 (ipykernel)",
   "language": "python",
   "name": "python3"
  },
  "language_info": {
   "codemirror_mode": {
    "name": "ipython",
    "version": 3
   },
   "file_extension": ".py",
   "mimetype": "text/x-python",
   "name": "python",
   "nbconvert_exporter": "python",
   "pygments_lexer": "ipython3",
   "version": "3.12.0"
  }
 },
 "nbformat": 4,
 "nbformat_minor": 5
}
