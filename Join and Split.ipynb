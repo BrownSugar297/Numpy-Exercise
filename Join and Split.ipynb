{
 "cells": [
  {
   "cell_type": "code",
   "execution_count": 1,
   "id": "5810188b-68d1-488b-ab17-dbcb577445ce",
   "metadata": {},
   "outputs": [
    {
     "name": "stdout",
     "output_type": "stream",
     "text": [
      "[10, 20, 30, 40, 50, 60]\n"
     ]
    }
   ],
   "source": [
    "a = [10,20,30]\n",
    "b =[40,50,60]\n",
    "print(a+b)"
   ]
  },
  {
   "cell_type": "code",
   "execution_count": 11,
   "id": "df71a65f-9b2f-462c-9aeb-da24c2767bb1",
   "metadata": {},
   "outputs": [
    {
     "name": "stdout",
     "output_type": "stream",
     "text": [
      "[10 20 30  4  5  6]\n"
     ]
    }
   ],
   "source": [
    "#Concatenate\n",
    "\n",
    "import numpy as np\n",
    "arr1 = np.array([10,20,30])\n",
    "arr2 = np.array([4,5,6])\n",
    "print(np.concatenate([arr1,arr2]))"
   ]
  },
  {
   "cell_type": "code",
   "execution_count": 14,
   "id": "e664647f-2b43-4e76-babd-af6d6e8bb2eb",
   "metadata": {},
   "outputs": [
    {
     "name": "stdout",
     "output_type": "stream",
     "text": [
      "[[10 20]\n",
      " [30 40]\n",
      " [ 4  5]\n",
      " [ 6  7]]\n"
     ]
    }
   ],
   "source": [
    "import numpy as np\n",
    "arr1 = np.array([[10,20],[30,40]])\n",
    "arr2 = np.array([[4,5],[6,7]])\n",
    "print(np.concatenate([arr1,arr2]))"
   ]
  },
  {
   "cell_type": "code",
   "execution_count": 23,
   "id": "07d9a3b4-8d11-4179-8cfc-7499b71042ba",
   "metadata": {},
   "outputs": [
    {
     "name": "stdout",
     "output_type": "stream",
     "text": [
      "[[10 20  4  5]\n",
      " [30 40  6  7]]\n"
     ]
    }
   ],
   "source": [
    "print(np.concatenate([arr1,arr2],axis = 1))"
   ]
  },
  {
   "cell_type": "code",
   "execution_count": 24,
   "id": "589edac4-e285-439f-92d8-211295e33be2",
   "metadata": {},
   "outputs": [
    {
     "name": "stdout",
     "output_type": "stream",
     "text": [
      "[[10 20  4  5]\n",
      " [30 40  6  7]]\n"
     ]
    }
   ],
   "source": [
    "#Horizontal Concatenate\n",
    "\n",
    "print(np.hstack([arr1,arr2]))"
   ]
  },
  {
   "cell_type": "code",
   "execution_count": 36,
   "id": "01785872-dbcc-428d-9262-221cc9238c8c",
   "metadata": {},
   "outputs": [
    {
     "name": "stdout",
     "output_type": "stream",
     "text": [
      "[[10 20]\n",
      " [30 40]\n",
      " [ 4  5]\n",
      " [ 6  7]]\n"
     ]
    }
   ],
   "source": [
    "#Vertical Concatenate\n",
    "\n",
    "print(np.vstack([arr1,arr2]))"
   ]
  },
  {
   "cell_type": "code",
   "execution_count": 40,
   "id": "99b2ffa6-9de3-4cee-bf1d-16de3df11ed5",
   "metadata": {},
   "outputs": [
    {
     "name": "stdout",
     "output_type": "stream",
     "text": [
      "[array([10, 20]), array([30, 40]), array([50]), array([60])]\n"
     ]
    }
   ],
   "source": [
    "a = np.array([10,20,30,40,50,60])\n",
    "print (np.array_split(a,4))\n"
   ]
  },
  {
   "cell_type": "code",
   "execution_count": 42,
   "id": "6c5109a9-980d-4817-8711-826e2f3ce6b7",
   "metadata": {},
   "outputs": [
    {
     "name": "stdout",
     "output_type": "stream",
     "text": [
      "[30 40]\n"
     ]
    }
   ],
   "source": [
    "a = np.array([10,20,30,40,50,60])\n",
    "b = np.array_split(a,3)\n",
    "print(b[1])"
   ]
  }
 ],
 "metadata": {
  "kernelspec": {
   "display_name": "Python 3 (ipykernel)",
   "language": "python",
   "name": "python3"
  },
  "language_info": {
   "codemirror_mode": {
    "name": "ipython",
    "version": 3
   },
   "file_extension": ".py",
   "mimetype": "text/x-python",
   "name": "python",
   "nbconvert_exporter": "python",
   "pygments_lexer": "ipython3",
   "version": "3.12.0"
  }
 },
 "nbformat": 4,
 "nbformat_minor": 5
}
