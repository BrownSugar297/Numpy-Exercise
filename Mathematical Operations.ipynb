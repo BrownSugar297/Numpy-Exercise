{
 "cells": [
  {
   "cell_type": "code",
   "execution_count": 3,
   "id": "d64b5d53-f0f0-4d41-aa95-1a4dd7e824c7",
   "metadata": {},
   "outputs": [
    {
     "name": "stdout",
     "output_type": "stream",
     "text": [
      "[ 60  80 100 120]\n",
      "[ 60  80 100 120]\n"
     ]
    }
   ],
   "source": [
    "import numpy as np\n",
    "\n",
    "arr1 = np.array([10,20,30,40])\n",
    "arr2 = np.array([50,60,70,80])\n",
    "print(arr1 + arr2)\n",
    "print(np.add(arr1,arr2))"
   ]
  },
  {
   "cell_type": "code",
   "execution_count": 10,
   "id": "22c89ff1-45c7-40db-801b-0a5235ad97ad",
   "metadata": {},
   "outputs": [
    {
     "name": "stdout",
     "output_type": "stream",
     "text": [
      "[[-40 -40]\n",
      " [-40 -40]]\n",
      "[[-40 -40]\n",
      " [-40 -40]]\n"
     ]
    }
   ],
   "source": [
    "arr3 = np.array([[10,20],[30,40]])\n",
    "arr4 = np.array([[50,60],[70,80]])\n",
    "print(arr3 - arr4)\n",
    "print(np.subtract(arr3,arr4))"
   ]
  },
  {
   "cell_type": "code",
   "execution_count": 18,
   "id": "98413301-5d33-4310-b465-0a202c0e217e",
   "metadata": {},
   "outputs": [
    {
     "name": "stdout",
     "output_type": "stream",
     "text": [
      "[[ 500 1200]\n",
      " [2100 3200]]\n",
      "[[ 500 1200]\n",
      " [2100 3200]]\n"
     ]
    }
   ],
   "source": [
    "arr3 = np.array([[10,20],[30,40]])\n",
    "arr4 = np.array([[50,60],[70,80]])\n",
    "print(arr3 * arr4)\n",
    "print(np.multiply(arr3,arr4))"
   ]
  },
  {
   "cell_type": "code",
   "execution_count": 20,
   "id": "19573146-5179-4187-9dc6-540a947a9070",
   "metadata": {},
   "outputs": [
    {
     "name": "stdout",
     "output_type": "stream",
     "text": [
      "[[0.2        0.33333333]\n",
      " [0.42857143 0.5       ]]\n",
      "[[0.2        0.33333333]\n",
      " [0.42857143 0.5       ]]\n"
     ]
    }
   ],
   "source": [
    "print(arr3/arr4)\n",
    "print(np.divide(arr3,arr4))"
   ]
  },
  {
   "cell_type": "code",
   "execution_count": 26,
   "id": "b71ef224-3e08-4cc8-8ca4-03c5d834420c",
   "metadata": {},
   "outputs": [
    {
     "name": "stdout",
     "output_type": "stream",
     "text": [
      "[  25 1600 2500 4900]\n"
     ]
    }
   ],
   "source": [
    "arr1 = np.array([5,40,50,70])\n",
    "arr2 = np.array([2])\n",
    "print(np.power(arr1,arr2))"
   ]
  },
  {
   "cell_type": "code",
   "execution_count": 29,
   "id": "3a78731f-3554-4083-9b8b-560693e23343",
   "metadata": {},
   "outputs": [
    {
     "name": "stdout",
     "output_type": "stream",
     "text": [
      "[ 5. 40. 50. 70.]\n"
     ]
    }
   ],
   "source": [
    "arr1 = np.array([ 25,1600,2500,4900])\n",
    "print(np.sqrt(arr1))"
   ]
  },
  {
   "cell_type": "code",
   "execution_count": null,
   "id": "4f0173d1-2114-4f3f-911d-b9519c543ca1",
   "metadata": {},
   "outputs": [],
   "source": []
  }
 ],
 "metadata": {
  "kernelspec": {
   "display_name": "Python 3 (ipykernel)",
   "language": "python",
   "name": "python3"
  },
  "language_info": {
   "codemirror_mode": {
    "name": "ipython",
    "version": 3
   },
   "file_extension": ".py",
   "mimetype": "text/x-python",
   "name": "python",
   "nbconvert_exporter": "python",
   "pygments_lexer": "ipython3",
   "version": "3.12.0"
  }
 },
 "nbformat": 4,
 "nbformat_minor": 5
}
